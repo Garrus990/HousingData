{
 "cells": [
  {
   "cell_type": "code",
   "execution_count": 1,
   "metadata": {},
   "outputs": [],
   "source": [
    "%matplotlib inline"
   ]
  },
  {
   "cell_type": "code",
   "execution_count": 2,
   "metadata": {},
   "outputs": [],
   "source": [
    "import pandas as pd\n",
    "import numpy as np\n",
    "import seaborn as sns\n",
    "import matplotlib.pyplot as plt\n",
    "import plotnine as pln\n",
    "import pickle as pkl\n",
    "\n",
    "from scipy import stats\n",
    "\n",
    "from sklearn.preprocessing import OneHotEncoder\n",
    "\n",
    "import datashader.transfer_functions as tf"
   ]
  },
  {
   "cell_type": "markdown",
   "metadata": {},
   "source": [
    "# Import the file and preprocess it"
   ]
  },
  {
   "cell_type": "code",
   "execution_count": 3,
   "metadata": {},
   "outputs": [],
   "source": [
    "data = pd.read_csv('./ML case/data.csv', parse_dates=['date_in'], dtype={'agency_rating': np.int64})"
   ]
  },
  {
   "cell_type": "markdown",
   "metadata": {},
   "source": [
    "`agancy_rating`, the only ordinal variable will be treated as a numeric one for the sake of this classification."
   ]
  },
  {
   "cell_type": "code",
   "execution_count": 4,
   "metadata": {},
   "outputs": [
    {
     "data": {
      "text/plain": [
       "(85195, 20)"
      ]
     },
     "execution_count": 4,
     "metadata": {},
     "output_type": "execute_result"
    }
   ],
   "source": [
    "data.shape"
   ]
  },
  {
   "cell_type": "code",
   "execution_count": 5,
   "metadata": {},
   "outputs": [
    {
     "name": "stdout",
     "output_type": "stream",
     "text": [
      "<class 'pandas.core.frame.DataFrame'>\n",
      "RangeIndex: 85195 entries, 0 to 85194\n",
      "Data columns (total 20 columns):\n",
      "house_pk           85195 non-null int64\n",
      "agency_id          85195 non-null int64\n",
      "date_in            85195 non-null datetime64[ns]\n",
      "price              85195 non-null int64\n",
      "dis_water_real     85195 non-null float64\n",
      "dis_shopping       85195 non-null float64\n",
      "no_bedrooms        85195 non-null int64\n",
      "max_persons        85195 non-null int64\n",
      "house_size         85195 non-null int64\n",
      "land_size          85195 non-null int64\n",
      "build_year         85195 non-null int64\n",
      "renovation_year    85195 non-null int64\n",
      "apartment          85195 non-null int64\n",
      "indoor_pool        85195 non-null int64\n",
      "spa                85195 non-null int64\n",
      "internet           85195 non-null int64\n",
      "pets_allowed       85195 non-null int64\n",
      "water_view         85195 non-null int64\n",
      "fire_stove         85195 non-null int64\n",
      "agency_rating      85195 non-null int64\n",
      "dtypes: datetime64[ns](1), float64(2), int64(17)\n",
      "memory usage: 13.0 MB\n"
     ]
    }
   ],
   "source": [
    "data.info()"
   ]
  },
  {
   "cell_type": "code",
   "execution_count": 6,
   "metadata": {},
   "outputs": [],
   "source": [
    "data['year'] = data['date_in'].dt.year\n",
    "data['month'] = data['date_in'].dt.month\n",
    "data['day'] = data['date_in'].dt.day\n",
    "data['weekday'] = data['date_in'].dt.weekday"
   ]
  },
  {
   "cell_type": "code",
   "execution_count": 7,
   "metadata": {},
   "outputs": [
    {
     "data": {
      "text/plain": [
       "<matplotlib.axes._subplots.AxesSubplot at 0x7f90c4331110>"
      ]
     },
     "execution_count": 7,
     "metadata": {},
     "output_type": "execute_result"
    },
    {
     "data": {
      "image/png": "[encoded data removed]",
      "text/plain": [
       "<Figure size 432x288 with 1 Axes>"
      ]
     },
     "metadata": {
      "needs_background": "light"
     },
     "output_type": "display_data"
    }
   ],
   "source": [
    "data['house_pk'].value_counts().plot(kind='hist')"
   ]
  },
  {
   "cell_type": "code",
   "execution_count": 8,
   "metadata": {},
   "outputs": [
    {
     "data": {
      "text/html": [
       "<div>\n",
       "<style scoped>\n",
       "    .dataframe tbody tr th:only-of-type {\n",
       "        vertical-align: middle;\n",
       "    }\n",
       "\n",
       "    .dataframe tbody tr th {\n",
       "        vertical-align: top;\n",
       "    }\n",
       "\n",
       "    .dataframe thead th {\n",
       "        text-align: right;\n",
       "    }\n",
       "</style>\n",
       "<table border=\"1\" class=\"dataframe\">\n",
       "  <thead>\n",
       "    <tr style=\"text-align: right;\">\n",
       "      <th>agency_rating</th>\n",
       "      <th>2</th>\n",
       "      <th>3</th>\n",
       "      <th>4</th>\n",
       "      <th>5</th>\n",
       "    </tr>\n",
       "    <tr>\n",
       "      <th>agency_id</th>\n",
       "      <th></th>\n",
       "      <th></th>\n",
       "      <th></th>\n",
       "      <th></th>\n",
       "    </tr>\n",
       "  </thead>\n",
       "  <tbody>\n",
       "    <tr>\n",
       "      <th>90</th>\n",
       "      <td>NaN</td>\n",
       "      <td>23554.0</td>\n",
       "      <td>3042.0</td>\n",
       "      <td>1969.0</td>\n",
       "    </tr>\n",
       "    <tr>\n",
       "      <th>121</th>\n",
       "      <td>652.0</td>\n",
       "      <td>5660.0</td>\n",
       "      <td>11310.0</td>\n",
       "      <td>7476.0</td>\n",
       "    </tr>\n",
       "    <tr>\n",
       "      <th>130</th>\n",
       "      <td>NaN</td>\n",
       "      <td>3121.0</td>\n",
       "      <td>5624.0</td>\n",
       "      <td>2880.0</td>\n",
       "    </tr>\n",
       "    <tr>\n",
       "      <th>160</th>\n",
       "      <td>NaN</td>\n",
       "      <td>6651.0</td>\n",
       "      <td>6729.0</td>\n",
       "      <td>6527.0</td>\n",
       "    </tr>\n",
       "  </tbody>\n",
       "</table>\n",
       "</div>"
      ],
      "text/plain": [
       "agency_rating      2        3        4       5\n",
       "agency_id                                     \n",
       "90               NaN  23554.0   3042.0  1969.0\n",
       "121            652.0   5660.0  11310.0  7476.0\n",
       "130              NaN   3121.0   5624.0  2880.0\n",
       "160              NaN   6651.0   6729.0  6527.0"
      ]
     },
     "execution_count": 8,
     "metadata": {},
     "output_type": "execute_result"
    }
   ],
   "source": [
    "data[['agency_id', 'agency_rating']].pivot_table(index='agency_id', columns='agency_rating', aggfunc=len)"
   ]
  },
  {
   "cell_type": "code",
   "execution_count": 9,
   "metadata": {},
   "outputs": [],
   "source": [
    "# we want to preserve agency_id for now\n",
    "data = pd.concat([data['agency_id'], pd.get_dummies(data, columns=['agency_id'], drop_first=True)], axis=1, sort=False)"
   ]
  },
  {
   "cell_type": "markdown",
   "metadata": {},
   "source": [
    "# Exploratory data anlysis (EDA)"
   ]
  },
  {
   "cell_type": "markdown",
   "metadata": {},
   "source": [
    "First, we will discover the relationship between the target variable and the features."
   ]
  },
  {
   "cell_type": "markdown",
   "metadata": {},
   "source": [
    "### Plot y's (price's) distribution"
   ]
  },
  {
   "cell_type": "code",
   "execution_count": 10,
   "metadata": {},
   "outputs": [
    {
     "data": {
      "text/plain": [
       "<matplotlib.axes._subplots.AxesSubplot at 0x7f909d27a310>"
      ]
     },
     "execution_count": 10,
     "metadata": {},
     "output_type": "execute_result"
    },
    {
     "data": {
      "image/png": "[encoded data removed]",
      "text/plain": [
       "<Figure size 432x288 with 1 Axes>"
      ]
     },
     "metadata": {
      "needs_background": "light"
     },
     "output_type": "display_data"
    }
   ],
   "source": [
    "sns.distplot(data['price'])"
   ]
  },
  {
   "cell_type": "markdown",
   "metadata": {},
   "source": [
    "As the distribution of price is highly non-normal, it will be more reasonable to work with log-normalized data."
   ]
  },
  {
   "cell_type": "code",
   "execution_count": 11,
   "metadata": {},
   "outputs": [],
   "source": [
    "data['price'] = np.log10(data['price'])"
   ]
  },
  {
   "cell_type": "code",
   "execution_count": 12,
   "metadata": {},
   "outputs": [
    {
     "data": {
      "text/plain": [
       "<matplotlib.axes._subplots.AxesSubplot at 0x7f909d884350>"
      ]
     },
     "execution_count": 12,
     "metadata": {},
     "output_type": "execute_result"
    },
    {
     "data": {
      "image/png": "[encoded data removed]",
      "text/plain": [
       "<Figure size 432x288 with 1 Axes>"
      ]
     },
     "metadata": {
      "needs_background": "light"
     },
     "output_type": "display_data"
    }
   ],
   "source": [
    "sns.distplot(data['price'])"
   ]
  },
  {
   "cell_type": "markdown",
   "metadata": {},
   "source": [
    "### Plot mean price over time and add some context to it with all of the observations on one plot"
   ]
  },
  {
   "cell_type": "code",
   "execution_count": null,
   "metadata": {},
   "outputs": [],
   "source": [
    "holidays = pd.DataFrame({'start': ['2016-07-01', '2017-07-01', '2018-07-01'], 'finish': ['2016-08-31', '2017-08-31', '2018-08-31'], \n",
    "                         'ymin': [-np.inf, -np.inf, -np.inf], 'ymax': [np.inf, np.inf, np.inf]}, )\n",
    "holidays['start'] = pd.to_datetime(holidays['start'])\n",
    "holidays['finish'] = pd.to_datetime(holidays['finish'])\n",
    "\n",
    "christmas = pd.DataFrame({'start': ['2016-12-20', '2017-12-20', '2018-12-20'], 'finish': ['2017-01-15', '2018-01-15', '2019-01-15'], \n",
    "                         'ymin': [-np.inf, -np.inf, -np.inf], 'ymax': [np.inf, np.inf, np.inf]}, )\n",
    "christmas['start'] = pd.to_datetime(christmas['start'])\n",
    "christmas['finish'] = pd.to_datetime(christmas['finish'])"
   ]
  },
  {
   "cell_type": "code",
   "execution_count": null,
   "metadata": {},
   "outputs": [],
   "source": [
    "(pln.ggplot(pln.aes('date_in', 'price', group='factor(house_pk)'), data=data)\n",
    " + pln.geom_line(color='gray', alpha=0.3, size=0.5)\n",
    " + pln.geom_line(pln.aes('date_in', 'price'), data.groupby('date_in')['price'].agg('mean').to_frame().reset_index(drop=False), size=3, inherit_aes=False)\n",
    " + pln.geom_rect(pln.aes(xmin='start', xmax='finish', ymin='ymin', ymax='ymax'), holidays, fill='green', alpha=0.1, inherit_aes=False)\n",
    " + pln.geom_rect(pln.aes(xmin='start', xmax='finish', ymin='ymin', ymax='ymax'), christmas, fill='red', alpha=0.1, inherit_aes=False)\n",
    " + pln.labels.xlab('Date')\n",
    " + pln.labels.ylab('Price')\n",
    " + pln.theme_bw()\n",
    " + pln.theme(axis_text_x=pln.element_text(rotation=90, hjust=0.5)))"
   ]
  },
  {
   "cell_type": "markdown",
   "metadata": {},
   "source": [
    "### Categorical variables"
   ]
  },
  {
   "cell_type": "markdown",
   "metadata": {},
   "source": [
    "It pays off to plot the distribution with respect to the year even if it cannot be used as an explanatory variable."
   ]
  },
  {
   "cell_type": "code",
   "execution_count": null,
   "metadata": {},
   "outputs": [],
   "source": [
    "cat_variables = ['agency_id', 'apartment', 'indoor_pool', 'spa', 'internet', 'pets_allowed', 'water_view', 'fire_stove', 'agency_rating', 'year', \n",
    "                 'month', 'weekday']"
   ]
  },
  {
   "cell_type": "code",
   "execution_count": null,
   "metadata": {},
   "outputs": [],
   "source": [
    "n_rows = len(cat_variables) // 2 + len(cat_variables) % 2\n",
    "n_cols = 2\n",
    "fig, ax = plt.subplots(ncols=n_cols, nrows=n_rows, sharey=True, figsize=(18, 50))\n",
    "\n",
    "for i, var in enumerate(cat_variables):\n",
    "    var_name = var.upper().replace('_', ' ')\n",
    "    sns.boxplot(data=data, x=var, y='price', ax=ax[i // 2, i % 2])\n",
    "    # please mind that the data has been already log-transformed\n",
    "    _, p = stats.f_oneway(*[data['price'].loc[x[1][var].index].values for x in data[var].to_frame().groupby(var, squeeze=True)])\n",
    "    ax[i // 2, i % 2].set_title(f'{var_name}, one-way ANOVA p-value: {np.round(p, 4)}')\n",
    "    ax[i // 2, i % 2].set_xlabel(var_name)\n",
    "    ax[i // 2, i % 2].set_ylabel('PRICE')\n",
    "    \n",
    "# remove unused axes\n",
    "if i+1 != n_rows*n_cols:\n",
    "    ax.flat[-1].set_visible(False)"
   ]
  },
  {
   "cell_type": "markdown",
   "metadata": {},
   "source": [
    "### Continuous variables"
   ]
  },
  {
   "cell_type": "code",
   "execution_count": null,
   "metadata": {},
   "outputs": [],
   "source": [
    "con_variables = ['dis_water_real', 'dis_shopping', 'no_bedrooms', 'max_persons', 'house_size', 'land_size', 'build_year', 'renovation_year']"
   ]
  },
  {
   "cell_type": "markdown",
   "metadata": {},
   "source": [
    "Apparently, `no_bedrooms` could be treated as a categorical variable due to the low number of values it takes."
   ]
  },
  {
   "cell_type": "code",
   "execution_count": null,
   "metadata": {},
   "outputs": [],
   "source": [
    "n_rows = len(con_variables) // 2 + len(con_variables) % 2\n",
    "n_cols = 2\n",
    "\n",
    "fig, ax = plt.subplots(ncols=n_cols, nrows=n_rows, sharey=True, figsize=(18, 30))\n",
    "\n",
    "for i, var in enumerate(con_variables):\n",
    "    var_name = var.upper().replace('_', ' ')\n",
    "    sns.scatterplot(data=data, x=var, y='price', ax=ax[i // 2, i % 2])\n",
    "    ax[i // 2, i % 2].set_title(var_name)\n",
    "    ax[i // 2, i % 2].set_xlabel(var_name)\n",
    "    ax[i // 2, i % 2].set_ylabel('PRICE')\n",
    "    \n",
    "# remove unused axes\n",
    "if i+1 != n_rows*n_cols:\n",
    "    ax.flat[-1].set_visible(False)"
   ]
  },
  {
   "cell_type": "markdown",
   "metadata": {},
   "source": [
    "### Correlation between features"
   ]
  },
  {
   "cell_type": "code",
   "execution_count": null,
   "metadata": {},
   "outputs": [],
   "source": [
    "all_variables = cat_variables + con_variables"
   ]
  },
  {
   "cell_type": "code",
   "execution_count": null,
   "metadata": {},
   "outputs": [],
   "source": [
    "palette = sns.xkcd_palette(colors=[\"windows blue\", \"amber\"])\n",
    "col_mapping = [palette[0] if var in cat_variables else palette[1] for var in all_variables]"
   ]
  },
  {
   "cell_type": "code",
   "execution_count": null,
   "metadata": {},
   "outputs": [],
   "source": [
    "# legend for the rectangles on the plot\n",
    "sns.palplot(palette)\n",
    "for i, val in enumerate(['categorical', 'continuous']):\n",
    "    plt.text(i, 0, val, horizontalalignment='center', verticalalignment='center', rotation=45)\n",
    "plt.show()"
   ]
  },
  {
   "cell_type": "code",
   "execution_count": null,
   "metadata": {},
   "outputs": [],
   "source": [
    "sns.clustermap(data[all_variables].corr(method='pearson'), method='ward', figsize=(15, 15), row_cluster=True, col_cluster=True, col_colors=col_mapping)"
   ]
  },
  {
   "cell_type": "markdown",
   "metadata": {},
   "source": [
    "# Regression model, solely on tabular data, to predict price"
   ]
  },
  {
   "cell_type": "code",
   "execution_count": 13,
   "metadata": {},
   "outputs": [],
   "source": [
    "# no weekday\n",
    "X_features = ['dis_water_real', 'dis_shopping', 'no_bedrooms', 'max_persons', 'house_size', 'land_size', 'build_year', 'renovation_year', 'apartment', \n",
    "              'indoor_pool', 'spa', 'internet', 'pets_allowed', 'water_view', 'fire_stove', 'agency_rating', 'year', 'month', 'day', 'agency_id_121', \n",
    "              'agency_id_130', 'agency_id_160']"
   ]
  },
  {
   "cell_type": "markdown",
   "metadata": {},
   "source": [
    "### Prepare validation set"
   ]
  },
  {
   "cell_type": "markdown",
   "metadata": {},
   "source": [
    "Validation set consists of 15% of observations for a given house_pk within a given year and month."
   ]
  },
  {
   "cell_type": "code",
   "execution_count": 14,
   "metadata": {},
   "outputs": [],
   "source": [
    "random_state = np.random.RandomState(37676373)"
   ]
  },
  {
   "cell_type": "code",
   "execution_count": 15,
   "metadata": {},
   "outputs": [],
   "source": [
    "validation_set = data.groupby(['house_pk', 'year', 'month']).apply(lambda gr: gr.sample(frac=0.15, random_state=random_state)).reset_index(drop=True)"
   ]
  },
  {
   "cell_type": "code",
   "execution_count": 16,
   "metadata": {},
   "outputs": [],
   "source": [
    "training_set = pd.merge(data, validation_set, indicator=True, how='outer').query('_merge==\"left_only\"').drop('_merge', axis=1)"
   ]
  },
  {
   "cell_type": "code",
   "execution_count": 17,
   "metadata": {},
   "outputs": [],
   "source": [
    "assert validation_set.shape[0] > 0 and training_set.shape[0] > 0 and validation_set.shape[0] + training_set.shape[0] == data.shape[0]"
   ]
  },
  {
   "cell_type": "markdown",
   "metadata": {},
   "source": [
    "### Random Forest"
   ]
  },
  {
   "cell_type": "code",
   "execution_count": 18,
   "metadata": {},
   "outputs": [],
   "source": [
    "from sklearn.model_selection import GridSearchCV, RepeatedKFold\n",
    "from sklearn.ensemble import RandomForestRegressor\n",
    "from sklearn.metrics import mean_squared_error"
   ]
  },
  {
   "cell_type": "code",
   "execution_count": 19,
   "metadata": {},
   "outputs": [],
   "source": [
    "rf_model = RandomForestRegressor(n_estimators=250, criterion='mse', max_features='sqrt', n_jobs=3, random_state=random_state)\n",
    "\n",
    "rf_grid = {'max_depth': [20, 22, 25, 27, 30]}  # the grid was chosen after some initial trials\n",
    "\n",
    "rf_cv = GridSearchCV(rf_model, rf_grid, scoring='neg_mean_squared_error', \n",
    "                     cv=RepeatedKFold(n_splits=5, n_repeats=3, random_state=random_state), \n",
    "                     n_jobs=2, return_train_score=False)"
   ]
  },
  {
   "cell_type": "code",
   "execution_count": 20,
   "metadata": {},
   "outputs": [
    {
     "name": "stderr",
     "output_type": "stream",
     "text": [
      "/home/szymon/anaconda3/envs/ml-env/lib/python3.7/site-packages/joblib/externals/loky/process_executor.py:706: UserWarning: A worker stopped while some jobs were given to the executor. This can be caused by a too short worker timeout or by a memory leak.\n",
      "  \"timeout or by a memory leak.\", UserWarning\n"
     ]
    },
    {
     "data": {
      "text/plain": [
       "GridSearchCV(cv=<sklearn.model_selection._split.RepeatedKFold object at 0x7f909db862d0>,\n",
       "             error_score='raise-deprecating',\n",
       "             estimator=RandomForestRegressor(bootstrap=True, criterion='mse',\n",
       "                                             max_depth=None,\n",
       "                                             max_features='sqrt',\n",
       "                                             max_leaf_nodes=None,\n",
       "                                             min_impurity_decrease=0.0,\n",
       "                                             min_impurity_split=None,\n",
       "                                             min_samples_leaf=1,\n",
       "                                             min_samples_split=2,\n",
       "                                             min_weight_fraction_leaf=0.0,\n",
       "                                             n_estimators=250, n_jobs=3,\n",
       "                                             oob_score=False,\n",
       "                                             random_state=RandomState(MT19937) at 0x7F909DB8C050,\n",
       "                                             verbose=0, warm_start=False),\n",
       "             iid='warn', n_jobs=2,\n",
       "             param_grid={'max_depth': [20, 22, 25, 27, 30]},\n",
       "             pre_dispatch='2*n_jobs', refit=True, return_train_score=False,\n",
       "             scoring='neg_mean_squared_error', verbose=0)"
      ]
     },
     "execution_count": 20,
     "metadata": {},
     "output_type": "execute_result"
    }
   ],
   "source": [
    "rf_cv.fit(training_set[X_features], training_set['price'])"
   ]
  },
  {
   "cell_type": "code",
   "execution_count": 21,
   "metadata": {},
   "outputs": [],
   "source": [
    "pkl.dump(rf_cv, open('rf_model.pkl', 'wb'))"
   ]
  },
  {
   "cell_type": "code",
   "execution_count": null,
   "metadata": {},
   "outputs": [],
   "source": [
    "rf_cv = pkl.load(open('rf_model.pkl', 'rb'))"
   ]
  },
  {
   "cell_type": "code",
   "execution_count": 22,
   "metadata": {},
   "outputs": [
    {
     "data": {
      "text/plain": [
       "{'max_depth': 30}"
      ]
     },
     "execution_count": 22,
     "metadata": {},
     "output_type": "execute_result"
    }
   ],
   "source": [
    "rf_cv.best_params_"
   ]
  },
  {
   "cell_type": "code",
   "execution_count": 23,
   "metadata": {},
   "outputs": [],
   "source": [
    "rf_predictions = rf_cv.predict(validation_set[X_features])"
   ]
  },
  {
   "cell_type": "markdown",
   "metadata": {},
   "source": [
    "### LightGBM"
   ]
  },
  {
   "cell_type": "code",
   "execution_count": 24,
   "metadata": {},
   "outputs": [],
   "source": [
    "import lightgbm as lgbm\n",
    "from skopt import BayesSearchCV\n",
    "from skopt.space import Real, Integer"
   ]
  },
  {
   "cell_type": "code",
   "execution_count": 25,
   "metadata": {},
   "outputs": [],
   "source": [
    "lgbm_model = lgbm.LGBMRegressor(n_jobs=2, num_leaves=2**10, random_state=37676373, importance_type='gain', )\n",
    "\n",
    "lgbm_grid = {'n_estimators': Integer(50, 500),\n",
    "             'learning_rate': Real(0.01, 0.35, 'uniform'),\n",
    "             'reg_alpha': Real(1e-6, 1, 'log-uniform'), \n",
    "             'reg_lambda': Real(1e-6, 1, 'log-uniform'), \n",
    "             'gamma': Real(0, 1, 'uniform'), \n",
    "             'subsample': Real(0.5, 1, 'uniform'), \n",
    "             'colsample_bytree': Real(0.5, 1, 'uniform'),\n",
    "             'max_depth': Integer(10, 30)\n",
    "            }\n",
    "\n",
    "lgbm_cv = BayesSearchCV(lgbm_model, lgbm_grid, n_iter=25, scoring='neg_mean_squared_error', refit=True, n_points=1,\n",
    "                        cv=RepeatedKFold(n_splits=5, n_repeats=3, random_state=random_state),\n",
    "                        n_jobs=3, random_state=random_state)"
   ]
  },
  {
   "cell_type": "code",
   "execution_count": 26,
   "metadata": {},
   "outputs": [
    {
     "data": {
      "text/plain": [
       "BayesSearchCV(cv=<sklearn.model_selection._split.RepeatedKFold object at 0x7f909dc704d0>,\n",
       "              error_score='raise',\n",
       "              estimator=LGBMRegressor(boosting_type='gbdt', class_weight=None,\n",
       "                                      colsample_bytree=1.0,\n",
       "                                      importance_type='gain', learning_rate=0.1,\n",
       "                                      max_depth=-1, min_child_samples=20,\n",
       "                                      min_child_weight=0.001,\n",
       "                                      min_split_gain=0.0, n_estimators=100,\n",
       "                                      n_jobs=3, num_leaves=1024, o...\n",
       "                             'learning_rate': Real(low=0.01, high=0.35, prior='uniform', transform='identity'),\n",
       "                             'max_depth': Integer(low=10, high=30),\n",
       "                             'n_estimators': Integer(low=50, high=500),\n",
       "                             'reg_alpha': Real(low=1e-06, high=1, prior='log-uniform', transform='identity'),\n",
       "                             'reg_lambda': Real(low=1e-06, high=1, prior='log-uniform', transform='identity'),\n",
       "                             'subsample': Real(low=0.5, high=1, prior='uniform', transform='identity')},\n",
       "              verbose=0)"
      ]
     },
     "execution_count": 26,
     "metadata": {},
     "output_type": "execute_result"
    }
   ],
   "source": [
    "lgbm_cv.fit(training_set[X_features], training_set['price'])"
   ]
  },
  {
   "cell_type": "code",
   "execution_count": 27,
   "metadata": {},
   "outputs": [],
   "source": [
    "pkl.dump(lgbm_cv, open('lgbm_model.pkl', 'wb'))"
   ]
  },
  {
   "cell_type": "code",
   "execution_count": null,
   "metadata": {},
   "outputs": [],
   "source": [
    "lgbm_cv = pkl.load(open('lgbm_cv.pkl', 'rb'))"
   ]
  },
  {
   "cell_type": "code",
   "execution_count": 28,
   "metadata": {},
   "outputs": [
    {
     "data": {
      "text/plain": [
       "{'colsample_bytree': 0.9369834890677994,\n",
       " 'gamma': 0.9032924759796218,\n",
       " 'learning_rate': 0.28674086776761876,\n",
       " 'max_depth': 28,\n",
       " 'n_estimators': 494,\n",
       " 'reg_alpha': 1.7078017202433342e-06,\n",
       " 'reg_lambda': 0.7412312117654891,\n",
       " 'subsample': 0.9009939963646613}"
      ]
     },
     "execution_count": 28,
     "metadata": {},
     "output_type": "execute_result"
    }
   ],
   "source": [
    "lgbm_cv.best_params_"
   ]
  },
  {
   "cell_type": "code",
   "execution_count": 29,
   "metadata": {},
   "outputs": [],
   "source": [
    "lgbm_predictions = lgbm_cv.predict(validation_set[X_features])"
   ]
  },
  {
   "cell_type": "markdown",
   "metadata": {},
   "source": [
    "### Compare  both models side-by-side"
   ]
  },
  {
   "cell_type": "code",
   "execution_count": 30,
   "metadata": {},
   "outputs": [
    {
     "data": {
      "image/png": "[encoded data removed]",
      "text/plain": [
       "<Figure size 1440x504 with 3 Axes>"
      ]
     },
     "metadata": {
      "needs_background": "light"
     },
     "output_type": "display_data"
    }
   ],
   "source": [
    "fig, ax = plt.subplots(1, 2, True, True, figsize=(20, 7))\n",
    "# the two lines below are for common labels for both plots\n",
    "fig.add_subplot(111, frameon=False)\n",
    "plt.tick_params(labelcolor='none', top=False, bottom=False, left=False, right=False)\n",
    "\n",
    "ax[0].plot(validation_set['price'], rf_predictions, color='green', marker='x', linewidth=0)\n",
    "ax[0].set_title(f'Random forest predictions - MSE: {np.round(mean_squared_error(validation_set[\"price\"], rf_predictions), 5)}',\n",
    "                fontdict={'fontsize': 20, 'fontweight': 'bold'})\n",
    "\n",
    "ax[1].plot(validation_set['price'], lgbm_predictions, color='blue', marker='x', linewidth=0)\n",
    "ax[1].set_title(f'LightGBM predictions - MSE: {np.round(mean_squared_error(validation_set[\"price\"], lgbm_predictions), 5)}',\n",
    "                fontdict={'fontsize': 20, 'fontweight': 'bold'})\n",
    "\n",
    "plt.xlabel('log10(Real price)')\n",
    "plt.ylabel('log10(Predicted price)')\n",
    "plt.tight_layout()\n",
    "\n",
    "plt.show()"
   ]
  },
  {
   "cell_type": "markdown",
   "metadata": {},
   "source": [
    "# Let's add images"
   ]
  },
  {
   "cell_type": "markdown",
   "metadata": {},
   "source": [
    "### Crop two parts from a mosaic of images"
   ]
  },
  {
   "cell_type": "code",
   "execution_count": 73,
   "metadata": {},
   "outputs": [],
   "source": [
    "import glob\n",
    "import pathlib\n",
    "\n",
    "from wand.image import Image\n",
    "from wand.display import display"
   ]
  },
  {
   "cell_type": "code",
   "execution_count": 86,
   "metadata": {},
   "outputs": [
    {
     "data": {
      "text/plain": [
       "PosixPath('ML case/aerial_photos')"
      ]
     },
     "execution_count": 86,
     "metadata": {},
     "output_type": "execute_result"
    }
   ],
   "source": [
    "complete_imgs_folder = pathlib.Path('./ML case/aerial_photos/complete_photos')"
   ]
  },
  {
   "cell_type": "code",
   "execution_count": 87,
   "metadata": {},
   "outputs": [],
   "source": [
    "# crop the complete image so that only top left image is retained\n",
    "for img_path in glob.glob(str(complete_imgs_folder / '*.png')):\n",
    "    img_path = pathlib.Path(img_path)\n",
    "    with Image(filename=img_path) as img:\n",
    "        with img.clone() as i:\n",
    "            i.crop(width=235, height=290)\n",
    "            i.trim(fuzz=0)\n",
    "            i.save(filename=str(img_path.parent.parent / 'aerial' / img_path.name))"
   ]
  },
  {
   "cell_type": "code",
   "execution_count": 96,
   "metadata": {},
   "outputs": [],
   "source": [
    "# as above, but retain only the plan (Google Map view)\n",
    "for it, img_path in enumerate(glob.glob(str(complete_imgs_folder / '*.png'))):\n",
    "    img_path = pathlib.Path(img_path)\n",
    "    with Image(filename=img_path) as img:\n",
    "        with img.clone() as i:\n",
    "            i.crop(left=240, width=320, height=300)\n",
    "            i.trim(fuzz=0)\n",
    "            i.save(filename=str(img_path.parent.parent / 'plans' / img_path.name))"
   ]
  }
 ],
 "metadata": {
  "kernelspec": {
   "display_name": "Python 3",
   "language": "python",
   "name": "python3"
  },
  "language_info": {
   "codemirror_mode": {
    "name": "ipython",
    "version": 3
   },
   "file_extension": ".py",
   "mimetype": "text/x-python",
   "name": "python",
   "nbconvert_exporter": "python",
   "pygments_lexer": "ipython3",
   "version": "3.7.5"
  }
 },
 "nbformat": 4,
 "nbformat_minor": 4
}
